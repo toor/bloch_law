{
 "cells": [
  {
   "cell_type": "code",
   "execution_count": 23,
   "id": "61374f37-965f-4cc8-9f5d-b5759315d9ee",
   "metadata": {},
   "outputs": [
    {
     "name": "stdout",
     "output_type": "stream",
     "text": [
      "(2, 1)\n",
      "Matrix([[-a/2], [-a/2], [0]])\n",
      "Matrix([[-a/2], [a/2], [0]])\n",
      "Matrix([[0], [-a/2], [a/2]])\n",
      "Matrix([[0], [a/2], [-a/2]])\n",
      "Matrix([[a/2], [-a/2], [0]])\n",
      "Matrix([[a/2], [a/2], [0]])\n",
      "exp(I*(-a*q_x/2 - a*q_y/2)) + exp(I*(-a*q_x/2 + a*q_y/2)) + exp(I*(a*q_x/2 - a*q_y/2)) + exp(I*(a*q_x/2 + a*q_y/2)) + exp(I*a*q_y/2) + exp(-I*a*q_y/2)\n",
      "\n",
      "\n",
      "e^{i \\left(- \\frac{a q_{x}}{2} - \\frac{a q_{y}}{2}\\right)} + e^{i \\left(- \\frac{a q_{x}}{2} + \\frac{a q_{y}}{2}\\right)} + e^{i \\left(\\frac{a q_{x}}{2} - \\frac{a q_{y}}{2}\\right)} + e^{i \\left(\\frac{a q_{x}}{2} + \\frac{a q_{y}}{2}\\right)} + e^{\\frac{i a q_{y}}{2}} + e^{- \\frac{i a q_{y}}{2}}\n"
     ]
    },
    {
     "name": "stderr",
     "output_type": "stream",
     "text": [
      "<>:31: SyntaxWarning: invalid escape sequence '\\s'\n",
      "<>:31: SyntaxWarning: invalid escape sequence '\\s'\n",
      "/var/folders/h2/stzlr1m552d16qq1zc3j1xv40000gn/T/ipykernel_6713/3770183189.py:31: SyntaxWarning: invalid escape sequence '\\s'\n",
      "  df = pd.read_csv(filename, sep='\\s+', skiprows=0, index_col=False)\n"
     ]
    }
   ],
   "source": [
    "import numpy as np\n",
    "from sympy import *\n",
    "from sympy.abc import a,b,c\n",
    "#from lattice import Params, Basis\n",
    "import pandas as pd\n",
    "import os    \n",
    "half = Rational(1,2)\n",
    "\n",
    "class SymbolicBasis:\n",
    "    def __init__(self, lattice_type):\n",
    "        class \"cP\":\n",
    "            self.basis = Matrix([[a,0,0],[0,a,0],[0,0,a]])\n",
    "            self.sym_dirs = np.array([[1,0,0],[0,1,0],[1,1,0],[1,1,1]], dtype=np.float64)\n",
    "        class \"cI\":\n",
    "            self.basis = a*half*Matrix([[-1,1,1],[1,-1,1],[1,1,-1]]])\n",
    "            self.sym_dirs = np.array([[1,0,0],[0,1,0],[1,1,0],[1,1,1]], dtype=np.float64)\n",
    "        class \"cF\":\n",
    "            self.basis = a*half*Matrix([[0,1,1],[1,0,1],[1,1,0]])\n",
    "            self.sym_dirs = np.array([1,0,0],[0,1,0],[1,1,0],[1,1,1]], dtype=np.float64)\n",
    "        class \"tP:\n",
    "            self.basis = Matrix([[a,-a,c],[a,a,c],[-a,-a,c]])\n",
    "            self.sym_dirs = np.array([\n",
    "        \n",
    "\n",
    "params = {\n",
    "    \"a\": a,\n",
    "    \"b\": b,\n",
    "    \"c\": c,\n",
    "    \"alpha\": alpha,\n",
    "    \"beta\": beta,\n",
    "    \"gamma\": gamma\n",
    "}\n",
    "\n",
    "lattice_type = \"cF\"\n",
    "half = Rational(1,2)\n",
    "a1 = half * Matrix([0,a,a])\n",
    "a2 = half * Matrix([a, 0, a])\n",
    "a3 = half * Matrix([a,a,0])\n",
    "\n",
    "#params = Params(params)\n",
    "#basis = Basis(lattice_type, params).basis \n",
    "#a1 = basis[0,:]\n",
    "#a2 = basis[1,:]\n",
    "#a3 = basis[2,:]\n",
    "\n",
    "names = ['idx   n1   n2    n3']   \n",
    "\n",
    "filename = os.getcwd() + \"/nn_cF/111/111__nn.dat\"\n",
    "df = pd.read_csv(filename, sep='\\s+', skiprows=0, index_col=False)\n",
    "nn_count = df.shape[0]\n",
    "\n",
    "q_x, q_y = symbols('q_x q_y')\n",
    "q = Matrix([q_x, q_y])\n",
    "print(shape(q))\n",
    "\n",
    "result = 0\n",
    "nn = []\n",
    "for i in range(nn_count):\n",
    "    row = df.loc[i].to_numpy()\n",
    "    #print(row)\n",
    "    n1 = row[1]\n",
    "    n2 = row[2]\n",
    "    n3 = row[3]\n",
    "    vec = n1*a1 + n2*a2 + n3*a3\n",
    "    #print(type(vec))\n",
    "    #print(shape(vec))\n",
    "    print(vec)\n",
    "    result += exp(I*Matrix(vec[:2]).dot(q))\n",
    "print(result)\n",
    "print(\"\\n\")\n",
    "print(latex(result))\n",
    "#print(simplify(result))\n",
    "    \n",
    "    \n",
    "\n",
    "\n"
   ]
  },
  {
   "cell_type": "code",
   "execution_count": null,
   "id": "ddabc975-dc48-4a20-8905-4361806ac358",
   "metadata": {},
   "outputs": [],
   "source": []
  },
  {
   "cell_type": "code",
   "execution_count": null,
   "id": "cd3f3429-f046-433f-be60-c5e113b6c793",
   "metadata": {},
   "outputs": [],
   "source": []
  }
 ],
 "metadata": {
  "kernelspec": {
   "display_name": "Python 3 (ipykernel)",
   "language": "python",
   "name": "python3"
  },
  "language_info": {
   "codemirror_mode": {
    "name": "ipython",
    "version": 3
   },
   "file_extension": ".py",
   "mimetype": "text/x-python",
   "name": "python",
   "nbconvert_exporter": "python",
   "pygments_lexer": "ipython3",
   "version": "3.13.2"
  }
 },
 "nbformat": 4,
 "nbformat_minor": 5
}
